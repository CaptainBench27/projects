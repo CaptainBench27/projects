{
  "nbformat": 4,
  "nbformat_minor": 0,
  "metadata": {
    "colab": {
      "provenance": [],
      "authorship_tag": "ABX9TyM8v76RlE/Jl8akmvb6SE5/",
      "include_colab_link": true
    },
    "kernelspec": {
      "name": "python3",
      "display_name": "Python 3"
    },
    "language_info": {
      "name": "python"
    }
  },
  "cells": [
    {
      "cell_type": "markdown",
      "metadata": {
        "id": "view-in-github",
        "colab_type": "text"
      },
      "source": [
        "<a href=\"https://colab.research.google.com/github/lilaceri/projects/blob/main/notebooks/Space_Titanic.ipynb\" target=\"_parent\"><img src=\"https://colab.research.google.com/assets/colab-badge.svg\" alt=\"Open In Colab\"/></a>"
      ]
    },
    {
      "cell_type": "markdown",
      "source": [
        "### Spaceship Titanic\n",
        "--- \n",
        "\n",
        "I will attempt to tackle the Titanic spaceship competition without the use of ML libraries but a raw coded Decision Tree"
      ],
      "metadata": {
        "id": "LrLS1_t4RfF5"
      }
    },
    {
      "cell_type": "code",
      "execution_count": null,
      "metadata": {
        "id": "wAqC3FC2zw_T"
      },
      "outputs": [],
      "source": [
        "import pandas as pd \n",
        "df = pd.read_csv(\"https://raw.githubusercontent.com/lilaceri/projects/main/datasets/Space%20titanic%20train.csv\")"
      ]
    },
    {
      "cell_type": "markdown",
      "source": [
        "### Summary Stats\n",
        "---"
      ],
      "metadata": {
        "id": "wztWpNhtR1pM"
      }
    },
    {
      "cell_type": "code",
      "source": [
        "def get_summary(df):\n",
        "  display(df.head())\n",
        "  display(df.info())\n",
        "  display(df.describe())\n",
        "\n",
        "get_summary(df)\n"
      ],
      "metadata": {
        "colab": {
          "base_uri": "https://localhost:8080/",
          "height": 871
        },
        "id": "vHRt8hkH0SkZ",
        "outputId": "81e5ab3b-30dc-4b9e-ba94-d7d20c021cd3"
      },
      "execution_count": null,
      "outputs": [
        {
          "output_type": "display_data",
          "data": {
            "text/plain": [
              "  PassengerId HomePlanet CryoSleep  Cabin  Destination   Age    VIP  \\\n",
              "0     0001_01     Europa     False  B/0/P  TRAPPIST-1e  39.0  False   \n",
              "1     0002_01      Earth     False  F/0/S  TRAPPIST-1e  24.0  False   \n",
              "2     0003_01     Europa     False  A/0/S  TRAPPIST-1e  58.0   True   \n",
              "3     0003_02     Europa     False  A/0/S  TRAPPIST-1e  33.0  False   \n",
              "4     0004_01      Earth     False  F/1/S  TRAPPIST-1e  16.0  False   \n",
              "\n",
              "   RoomService  FoodCourt  ShoppingMall     Spa  VRDeck               Name  \\\n",
              "0          0.0        0.0           0.0     0.0     0.0    Maham Ofracculy   \n",
              "1        109.0        9.0          25.0   549.0    44.0       Juanna Vines   \n",
              "2         43.0     3576.0           0.0  6715.0    49.0      Altark Susent   \n",
              "3          0.0     1283.0         371.0  3329.0   193.0       Solam Susent   \n",
              "4        303.0       70.0         151.0   565.0     2.0  Willy Santantines   \n",
              "\n",
              "   Transported  \n",
              "0        False  \n",
              "1         True  \n",
              "2        False  \n",
              "3        False  \n",
              "4         True  "
            ],
            "text/html": [
              "\n",
              "  <div id=\"df-4708712e-6db8-4a56-9807-95807f64ad2c\">\n",
              "    <div class=\"colab-df-container\">\n",
              "      <div>\n",
              "<style scoped>\n",
              "    .dataframe tbody tr th:only-of-type {\n",
              "        vertical-align: middle;\n",
              "    }\n",
              "\n",
              "    .dataframe tbody tr th {\n",
              "        vertical-align: top;\n",
              "    }\n",
              "\n",
              "    .dataframe thead th {\n",
              "        text-align: right;\n",
              "    }\n",
              "</style>\n",
              "<table border=\"1\" class=\"dataframe\">\n",
              "  <thead>\n",
              "    <tr style=\"text-align: right;\">\n",
              "      <th></th>\n",
              "      <th>PassengerId</th>\n",
              "      <th>HomePlanet</th>\n",
              "      <th>CryoSleep</th>\n",
              "      <th>Cabin</th>\n",
              "      <th>Destination</th>\n",
              "      <th>Age</th>\n",
              "      <th>VIP</th>\n",
              "      <th>RoomService</th>\n",
              "      <th>FoodCourt</th>\n",
              "      <th>ShoppingMall</th>\n",
              "      <th>Spa</th>\n",
              "      <th>VRDeck</th>\n",
              "      <th>Name</th>\n",
              "      <th>Transported</th>\n",
              "    </tr>\n",
              "  </thead>\n",
              "  <tbody>\n",
              "    <tr>\n",
              "      <th>0</th>\n",
              "      <td>0001_01</td>\n",
              "      <td>Europa</td>\n",
              "      <td>False</td>\n",
              "      <td>B/0/P</td>\n",
              "      <td>TRAPPIST-1e</td>\n",
              "      <td>39.0</td>\n",
              "      <td>False</td>\n",
              "      <td>0.0</td>\n",
              "      <td>0.0</td>\n",
              "      <td>0.0</td>\n",
              "      <td>0.0</td>\n",
              "      <td>0.0</td>\n",
              "      <td>Maham Ofracculy</td>\n",
              "      <td>False</td>\n",
              "    </tr>\n",
              "    <tr>\n",
              "      <th>1</th>\n",
              "      <td>0002_01</td>\n",
              "      <td>Earth</td>\n",
              "      <td>False</td>\n",
              "      <td>F/0/S</td>\n",
              "      <td>TRAPPIST-1e</td>\n",
              "      <td>24.0</td>\n",
              "      <td>False</td>\n",
              "      <td>109.0</td>\n",
              "      <td>9.0</td>\n",
              "      <td>25.0</td>\n",
              "      <td>549.0</td>\n",
              "      <td>44.0</td>\n",
              "      <td>Juanna Vines</td>\n",
              "      <td>True</td>\n",
              "    </tr>\n",
              "    <tr>\n",
              "      <th>2</th>\n",
              "      <td>0003_01</td>\n",
              "      <td>Europa</td>\n",
              "      <td>False</td>\n",
              "      <td>A/0/S</td>\n",
              "      <td>TRAPPIST-1e</td>\n",
              "      <td>58.0</td>\n",
              "      <td>True</td>\n",
              "      <td>43.0</td>\n",
              "      <td>3576.0</td>\n",
              "      <td>0.0</td>\n",
              "      <td>6715.0</td>\n",
              "      <td>49.0</td>\n",
              "      <td>Altark Susent</td>\n",
              "      <td>False</td>\n",
              "    </tr>\n",
              "    <tr>\n",
              "      <th>3</th>\n",
              "      <td>0003_02</td>\n",
              "      <td>Europa</td>\n",
              "      <td>False</td>\n",
              "      <td>A/0/S</td>\n",
              "      <td>TRAPPIST-1e</td>\n",
              "      <td>33.0</td>\n",
              "      <td>False</td>\n",
              "      <td>0.0</td>\n",
              "      <td>1283.0</td>\n",
              "      <td>371.0</td>\n",
              "      <td>3329.0</td>\n",
              "      <td>193.0</td>\n",
              "      <td>Solam Susent</td>\n",
              "      <td>False</td>\n",
              "    </tr>\n",
              "    <tr>\n",
              "      <th>4</th>\n",
              "      <td>0004_01</td>\n",
              "      <td>Earth</td>\n",
              "      <td>False</td>\n",
              "      <td>F/1/S</td>\n",
              "      <td>TRAPPIST-1e</td>\n",
              "      <td>16.0</td>\n",
              "      <td>False</td>\n",
              "      <td>303.0</td>\n",
              "      <td>70.0</td>\n",
              "      <td>151.0</td>\n",
              "      <td>565.0</td>\n",
              "      <td>2.0</td>\n",
              "      <td>Willy Santantines</td>\n",
              "      <td>True</td>\n",
              "    </tr>\n",
              "  </tbody>\n",
              "</table>\n",
              "</div>\n",
              "      <button class=\"colab-df-convert\" onclick=\"convertToInteractive('df-4708712e-6db8-4a56-9807-95807f64ad2c')\"\n",
              "              title=\"Convert this dataframe to an interactive table.\"\n",
              "              style=\"display:none;\">\n",
              "        \n",
              "  <svg xmlns=\"http://www.w3.org/2000/svg\" height=\"24px\"viewBox=\"0 0 24 24\"\n",
              "       width=\"24px\">\n",
              "    <path d=\"M0 0h24v24H0V0z\" fill=\"none\"/>\n",
              "    <path d=\"M18.56 5.44l.94 2.06.94-2.06 2.06-.94-2.06-.94-.94-2.06-.94 2.06-2.06.94zm-11 1L8.5 8.5l.94-2.06 2.06-.94-2.06-.94L8.5 2.5l-.94 2.06-2.06.94zm10 10l.94 2.06.94-2.06 2.06-.94-2.06-.94-.94-2.06-.94 2.06-2.06.94z\"/><path d=\"M17.41 7.96l-1.37-1.37c-.4-.4-.92-.59-1.43-.59-.52 0-1.04.2-1.43.59L10.3 9.45l-7.72 7.72c-.78.78-.78 2.05 0 2.83L4 21.41c.39.39.9.59 1.41.59.51 0 1.02-.2 1.41-.59l7.78-7.78 2.81-2.81c.8-.78.8-2.07 0-2.86zM5.41 20L4 18.59l7.72-7.72 1.47 1.35L5.41 20z\"/>\n",
              "  </svg>\n",
              "      </button>\n",
              "      \n",
              "  <style>\n",
              "    .colab-df-container {\n",
              "      display:flex;\n",
              "      flex-wrap:wrap;\n",
              "      gap: 12px;\n",
              "    }\n",
              "\n",
              "    .colab-df-convert {\n",
              "      background-color: #E8F0FE;\n",
              "      border: none;\n",
              "      border-radius: 50%;\n",
              "      cursor: pointer;\n",
              "      display: none;\n",
              "      fill: #1967D2;\n",
              "      height: 32px;\n",
              "      padding: 0 0 0 0;\n",
              "      width: 32px;\n",
              "    }\n",
              "\n",
              "    .colab-df-convert:hover {\n",
              "      background-color: #E2EBFA;\n",
              "      box-shadow: 0px 1px 2px rgba(60, 64, 67, 0.3), 0px 1px 3px 1px rgba(60, 64, 67, 0.15);\n",
              "      fill: #174EA6;\n",
              "    }\n",
              "\n",
              "    [theme=dark] .colab-df-convert {\n",
              "      background-color: #3B4455;\n",
              "      fill: #D2E3FC;\n",
              "    }\n",
              "\n",
              "    [theme=dark] .colab-df-convert:hover {\n",
              "      background-color: #434B5C;\n",
              "      box-shadow: 0px 1px 3px 1px rgba(0, 0, 0, 0.15);\n",
              "      filter: drop-shadow(0px 1px 2px rgba(0, 0, 0, 0.3));\n",
              "      fill: #FFFFFF;\n",
              "    }\n",
              "  </style>\n",
              "\n",
              "      <script>\n",
              "        const buttonEl =\n",
              "          document.querySelector('#df-4708712e-6db8-4a56-9807-95807f64ad2c button.colab-df-convert');\n",
              "        buttonEl.style.display =\n",
              "          google.colab.kernel.accessAllowed ? 'block' : 'none';\n",
              "\n",
              "        async function convertToInteractive(key) {\n",
              "          const element = document.querySelector('#df-4708712e-6db8-4a56-9807-95807f64ad2c');\n",
              "          const dataTable =\n",
              "            await google.colab.kernel.invokeFunction('convertToInteractive',\n",
              "                                                     [key], {});\n",
              "          if (!dataTable) return;\n",
              "\n",
              "          const docLinkHtml = 'Like what you see? Visit the ' +\n",
              "            '<a target=\"_blank\" href=https://colab.research.google.com/notebooks/data_table.ipynb>data table notebook</a>'\n",
              "            + ' to learn more about interactive tables.';\n",
              "          element.innerHTML = '';\n",
              "          dataTable['output_type'] = 'display_data';\n",
              "          await google.colab.output.renderOutput(dataTable, element);\n",
              "          const docLink = document.createElement('div');\n",
              "          docLink.innerHTML = docLinkHtml;\n",
              "          element.appendChild(docLink);\n",
              "        }\n",
              "      </script>\n",
              "    </div>\n",
              "  </div>\n",
              "  "
            ]
          },
          "metadata": {}
        },
        {
          "output_type": "stream",
          "name": "stdout",
          "text": [
            "<class 'pandas.core.frame.DataFrame'>\n",
            "RangeIndex: 8693 entries, 0 to 8692\n",
            "Data columns (total 14 columns):\n",
            " #   Column        Non-Null Count  Dtype  \n",
            "---  ------        --------------  -----  \n",
            " 0   PassengerId   8693 non-null   object \n",
            " 1   HomePlanet    8492 non-null   object \n",
            " 2   CryoSleep     8476 non-null   object \n",
            " 3   Cabin         8494 non-null   object \n",
            " 4   Destination   8511 non-null   object \n",
            " 5   Age           8514 non-null   float64\n",
            " 6   VIP           8490 non-null   object \n",
            " 7   RoomService   8512 non-null   float64\n",
            " 8   FoodCourt     8510 non-null   float64\n",
            " 9   ShoppingMall  8485 non-null   float64\n",
            " 10  Spa           8510 non-null   float64\n",
            " 11  VRDeck        8505 non-null   float64\n",
            " 12  Name          8493 non-null   object \n",
            " 13  Transported   8693 non-null   bool   \n",
            "dtypes: bool(1), float64(6), object(7)\n",
            "memory usage: 891.5+ KB\n"
          ]
        },
        {
          "output_type": "display_data",
          "data": {
            "text/plain": [
              "None"
            ]
          },
          "metadata": {}
        },
        {
          "output_type": "display_data",
          "data": {
            "text/plain": [
              "               Age   RoomService     FoodCourt  ShoppingMall           Spa  \\\n",
              "count  8514.000000   8512.000000   8510.000000   8485.000000   8510.000000   \n",
              "mean     28.827930    224.687617    458.077203    173.729169    311.138778   \n",
              "std      14.489021    666.717663   1611.489240    604.696458   1136.705535   \n",
              "min       0.000000      0.000000      0.000000      0.000000      0.000000   \n",
              "25%      19.000000      0.000000      0.000000      0.000000      0.000000   \n",
              "50%      27.000000      0.000000      0.000000      0.000000      0.000000   \n",
              "75%      38.000000     47.000000     76.000000     27.000000     59.000000   \n",
              "max      79.000000  14327.000000  29813.000000  23492.000000  22408.000000   \n",
              "\n",
              "             VRDeck  \n",
              "count   8505.000000  \n",
              "mean     304.854791  \n",
              "std     1145.717189  \n",
              "min        0.000000  \n",
              "25%        0.000000  \n",
              "50%        0.000000  \n",
              "75%       46.000000  \n",
              "max    24133.000000  "
            ],
            "text/html": [
              "\n",
              "  <div id=\"df-5e0c8340-3216-4f92-882f-791f72f0e4c7\">\n",
              "    <div class=\"colab-df-container\">\n",
              "      <div>\n",
              "<style scoped>\n",
              "    .dataframe tbody tr th:only-of-type {\n",
              "        vertical-align: middle;\n",
              "    }\n",
              "\n",
              "    .dataframe tbody tr th {\n",
              "        vertical-align: top;\n",
              "    }\n",
              "\n",
              "    .dataframe thead th {\n",
              "        text-align: right;\n",
              "    }\n",
              "</style>\n",
              "<table border=\"1\" class=\"dataframe\">\n",
              "  <thead>\n",
              "    <tr style=\"text-align: right;\">\n",
              "      <th></th>\n",
              "      <th>Age</th>\n",
              "      <th>RoomService</th>\n",
              "      <th>FoodCourt</th>\n",
              "      <th>ShoppingMall</th>\n",
              "      <th>Spa</th>\n",
              "      <th>VRDeck</th>\n",
              "    </tr>\n",
              "  </thead>\n",
              "  <tbody>\n",
              "    <tr>\n",
              "      <th>count</th>\n",
              "      <td>8514.000000</td>\n",
              "      <td>8512.000000</td>\n",
              "      <td>8510.000000</td>\n",
              "      <td>8485.000000</td>\n",
              "      <td>8510.000000</td>\n",
              "      <td>8505.000000</td>\n",
              "    </tr>\n",
              "    <tr>\n",
              "      <th>mean</th>\n",
              "      <td>28.827930</td>\n",
              "      <td>224.687617</td>\n",
              "      <td>458.077203</td>\n",
              "      <td>173.729169</td>\n",
              "      <td>311.138778</td>\n",
              "      <td>304.854791</td>\n",
              "    </tr>\n",
              "    <tr>\n",
              "      <th>std</th>\n",
              "      <td>14.489021</td>\n",
              "      <td>666.717663</td>\n",
              "      <td>1611.489240</td>\n",
              "      <td>604.696458</td>\n",
              "      <td>1136.705535</td>\n",
              "      <td>1145.717189</td>\n",
              "    </tr>\n",
              "    <tr>\n",
              "      <th>min</th>\n",
              "      <td>0.000000</td>\n",
              "      <td>0.000000</td>\n",
              "      <td>0.000000</td>\n",
              "      <td>0.000000</td>\n",
              "      <td>0.000000</td>\n",
              "      <td>0.000000</td>\n",
              "    </tr>\n",
              "    <tr>\n",
              "      <th>25%</th>\n",
              "      <td>19.000000</td>\n",
              "      <td>0.000000</td>\n",
              "      <td>0.000000</td>\n",
              "      <td>0.000000</td>\n",
              "      <td>0.000000</td>\n",
              "      <td>0.000000</td>\n",
              "    </tr>\n",
              "    <tr>\n",
              "      <th>50%</th>\n",
              "      <td>27.000000</td>\n",
              "      <td>0.000000</td>\n",
              "      <td>0.000000</td>\n",
              "      <td>0.000000</td>\n",
              "      <td>0.000000</td>\n",
              "      <td>0.000000</td>\n",
              "    </tr>\n",
              "    <tr>\n",
              "      <th>75%</th>\n",
              "      <td>38.000000</td>\n",
              "      <td>47.000000</td>\n",
              "      <td>76.000000</td>\n",
              "      <td>27.000000</td>\n",
              "      <td>59.000000</td>\n",
              "      <td>46.000000</td>\n",
              "    </tr>\n",
              "    <tr>\n",
              "      <th>max</th>\n",
              "      <td>79.000000</td>\n",
              "      <td>14327.000000</td>\n",
              "      <td>29813.000000</td>\n",
              "      <td>23492.000000</td>\n",
              "      <td>22408.000000</td>\n",
              "      <td>24133.000000</td>\n",
              "    </tr>\n",
              "  </tbody>\n",
              "</table>\n",
              "</div>\n",
              "      <button class=\"colab-df-convert\" onclick=\"convertToInteractive('df-5e0c8340-3216-4f92-882f-791f72f0e4c7')\"\n",
              "              title=\"Convert this dataframe to an interactive table.\"\n",
              "              style=\"display:none;\">\n",
              "        \n",
              "  <svg xmlns=\"http://www.w3.org/2000/svg\" height=\"24px\"viewBox=\"0 0 24 24\"\n",
              "       width=\"24px\">\n",
              "    <path d=\"M0 0h24v24H0V0z\" fill=\"none\"/>\n",
              "    <path d=\"M18.56 5.44l.94 2.06.94-2.06 2.06-.94-2.06-.94-.94-2.06-.94 2.06-2.06.94zm-11 1L8.5 8.5l.94-2.06 2.06-.94-2.06-.94L8.5 2.5l-.94 2.06-2.06.94zm10 10l.94 2.06.94-2.06 2.06-.94-2.06-.94-.94-2.06-.94 2.06-2.06.94z\"/><path d=\"M17.41 7.96l-1.37-1.37c-.4-.4-.92-.59-1.43-.59-.52 0-1.04.2-1.43.59L10.3 9.45l-7.72 7.72c-.78.78-.78 2.05 0 2.83L4 21.41c.39.39.9.59 1.41.59.51 0 1.02-.2 1.41-.59l7.78-7.78 2.81-2.81c.8-.78.8-2.07 0-2.86zM5.41 20L4 18.59l7.72-7.72 1.47 1.35L5.41 20z\"/>\n",
              "  </svg>\n",
              "      </button>\n",
              "      \n",
              "  <style>\n",
              "    .colab-df-container {\n",
              "      display:flex;\n",
              "      flex-wrap:wrap;\n",
              "      gap: 12px;\n",
              "    }\n",
              "\n",
              "    .colab-df-convert {\n",
              "      background-color: #E8F0FE;\n",
              "      border: none;\n",
              "      border-radius: 50%;\n",
              "      cursor: pointer;\n",
              "      display: none;\n",
              "      fill: #1967D2;\n",
              "      height: 32px;\n",
              "      padding: 0 0 0 0;\n",
              "      width: 32px;\n",
              "    }\n",
              "\n",
              "    .colab-df-convert:hover {\n",
              "      background-color: #E2EBFA;\n",
              "      box-shadow: 0px 1px 2px rgba(60, 64, 67, 0.3), 0px 1px 3px 1px rgba(60, 64, 67, 0.15);\n",
              "      fill: #174EA6;\n",
              "    }\n",
              "\n",
              "    [theme=dark] .colab-df-convert {\n",
              "      background-color: #3B4455;\n",
              "      fill: #D2E3FC;\n",
              "    }\n",
              "\n",
              "    [theme=dark] .colab-df-convert:hover {\n",
              "      background-color: #434B5C;\n",
              "      box-shadow: 0px 1px 3px 1px rgba(0, 0, 0, 0.15);\n",
              "      filter: drop-shadow(0px 1px 2px rgba(0, 0, 0, 0.3));\n",
              "      fill: #FFFFFF;\n",
              "    }\n",
              "  </style>\n",
              "\n",
              "      <script>\n",
              "        const buttonEl =\n",
              "          document.querySelector('#df-5e0c8340-3216-4f92-882f-791f72f0e4c7 button.colab-df-convert');\n",
              "        buttonEl.style.display =\n",
              "          google.colab.kernel.accessAllowed ? 'block' : 'none';\n",
              "\n",
              "        async function convertToInteractive(key) {\n",
              "          const element = document.querySelector('#df-5e0c8340-3216-4f92-882f-791f72f0e4c7');\n",
              "          const dataTable =\n",
              "            await google.colab.kernel.invokeFunction('convertToInteractive',\n",
              "                                                     [key], {});\n",
              "          if (!dataTable) return;\n",
              "\n",
              "          const docLinkHtml = 'Like what you see? Visit the ' +\n",
              "            '<a target=\"_blank\" href=https://colab.research.google.com/notebooks/data_table.ipynb>data table notebook</a>'\n",
              "            + ' to learn more about interactive tables.';\n",
              "          element.innerHTML = '';\n",
              "          dataTable['output_type'] = 'display_data';\n",
              "          await google.colab.output.renderOutput(dataTable, element);\n",
              "          const docLink = document.createElement('div');\n",
              "          docLink.innerHTML = docLinkHtml;\n",
              "          element.appendChild(docLink);\n",
              "        }\n",
              "      </script>\n",
              "    </div>\n",
              "  </div>\n",
              "  "
            ]
          },
          "metadata": {}
        }
      ]
    },
    {
      "cell_type": "code",
      "source": [
        "def find_unique(column):\n",
        "  return df[column].unique(), df[column].nunique()\n",
        "\n",
        "display(find_unique(\"HomePlanet\"))\n",
        "display(find_unique(\"Destination\"))\n",
        "display(find_unique(\"Cabin\"))"
      ],
      "metadata": {
        "colab": {
          "base_uri": "https://localhost:8080/",
          "height": 86
        },
        "id": "ccQuw8a01-oq",
        "outputId": "c55c3344-a2df-42ef-fb10-f38b9edf76eb"
      },
      "execution_count": null,
      "outputs": [
        {
          "output_type": "display_data",
          "data": {
            "text/plain": [
              "(array(['Europa', 'Earth', 'Mars', nan], dtype=object), 3)"
            ]
          },
          "metadata": {}
        },
        {
          "output_type": "display_data",
          "data": {
            "text/plain": [
              "(array(['TRAPPIST-1e', 'PSO J318.5-22', '55 Cancri e', nan], dtype=object), 3)"
            ]
          },
          "metadata": {}
        },
        {
          "output_type": "display_data",
          "data": {
            "text/plain": [
              "(array(['B/0/P', 'F/0/S', 'A/0/S', ..., 'G/1499/S', 'G/1500/S', 'E/608/S'],\n",
              "       dtype=object), 6560)"
            ]
          },
          "metadata": {}
        }
      ]
    },
    {
      "cell_type": "markdown",
      "source": [
        "### Lets look at the distribution\n",
        "---\n"
      ],
      "metadata": {
        "id": "zloHdIpe0RwV"
      }
    },
    {
      "cell_type": "code",
      "source": [
        "df.columns"
      ],
      "metadata": {
        "colab": {
          "base_uri": "https://localhost:8080/"
        },
        "id": "pPn4AIuT0uVh",
        "outputId": "4c6b4209-c262-4685-92dc-745dc84f3b30"
      },
      "execution_count": null,
      "outputs": [
        {
          "output_type": "execute_result",
          "data": {
            "text/plain": [
              "Index(['PassengerId', 'HomePlanet', 'CryoSleep', 'Cabin', 'Destination', 'Age',\n",
              "       'VIP', 'RoomService', 'FoodCourt', 'ShoppingMall', 'Spa', 'VRDeck',\n",
              "       'Name', 'Transported'],\n",
              "      dtype='object')"
            ]
          },
          "metadata": {},
          "execution_count": 4
        }
      ]
    },
    {
      "cell_type": "code",
      "source": [
        "import matplotlib.pyplot as plt\n",
        "import seaborn as sns \n",
        "\n",
        "feats = ['HomePlanet', 'CryoSleep', 'Destination', 'Age',\n",
        "       'VIP', 'RoomService', 'FoodCourt', 'ShoppingMall', 'Spa', 'VRDeck', 'total_spend']\n",
        "\n",
        "\n",
        "def plot_dist():\n",
        "  for feat in feats:\n",
        "    sns.histplot(data=df, x=feat, bins=30, kde=False, hue='Transported', multiple='stack')\n",
        "    plt.show()\n",
        "\n",
        "plot_dist()"
      ],
      "metadata": {
        "colab": {
          "base_uri": "https://localhost:8080/",
          "height": 1000
        },
        "id": "LeWr_tb20RVx",
        "outputId": "0e651227-4605-40f2-9b11-9679238ed48c"
      },
      "execution_count": null,
      "outputs": [
        {
          "output_type": "display_data",
          "data": {
            "text/plain": [
              "<Figure size 432x288 with 1 Axes>"
            ],
            "image/png": "[encoded data removed]"
          },
          "metadata": {
            "needs_background": "light"
          }
        },
        {
          "output_type": "display_data",
          "data": {
            "text/plain": [
              "<Figure size 432x288 with 1 Axes>"
            ],
            "image/png": "[encoded data removed]"
          },
          "metadata": {
            "needs_background": "light"
          }
        },
        {
          "output_type": "display_data",
          "data": {
            "text/plain": [
              "<Figure size 432x288 with 1 Axes>"
            ],
            "image/png": "[encoded data removed]"
          },
          "metadata": {
            "needs_background": "light"
          }
        },
        {
          "output_type": "display_data",
          "data": {
            "text/plain": [
              "<Figure size 432x288 with 1 Axes>"
            ],
            "image/png": "[encoded data removed]"
          },
          "metadata": {
            "needs_background": "light"
          }
        },
        {
          "output_type": "display_data",
          "data": {
            "text/plain": [
              "<Figure size 432x288 with 1 Axes>"
            ],
            "image/png": "[encoded data removed]"
          },
          "metadata": {
            "needs_background": "light"
          }
        },
        {
          "output_type": "display_data",
          "data": {
            "text/plain": [
              "<Figure size 432x288 with 1 Axes>"
            ],
            "image/png": "[encoded data removed]"
          },
          "metadata": {
            "needs_background": "light"
          }
        },
        {
          "output_type": "display_data",
          "data": {
            "text/plain": [
              "<Figure size 432x288 with 1 Axes>"
            ],
            "image/png": "[encoded data removed]"
          },
          "metadata": {
            "needs_background": "light"
          }
        },
        {
          "output_type": "display_data",
          "data": {
            "text/plain": [
              "<Figure size 432x288 with 1 Axes>"
            ],
            "image/png": "[encoded data removed]"
          },
          "metadata": {
            "needs_background": "light"
          }
        },
        {
          "output_type": "display_data",
          "data": {
            "text/plain": [
              "<Figure size 432x288 with 1 Axes>"
            ],
            "image/png": "[encoded data removed]"
          },
          "metadata": {
            "needs_background": "light"
          }
        },
        {
          "output_type": "display_data",
          "data": {
            "text/plain": [
              "<Figure size 432x288 with 1 Axes>"
            ],
            "image/png": "[encoded data removed]"
          },
          "metadata": {
            "needs_background": "light"
          }
        },
        {
          "output_type": "error",
          "ename": "ValueError",
          "evalue": "ignored",
          "traceback": [
            "\u001b[0;31m---------------------------------------------------------------------------\u001b[0m",
            "\u001b[0;31mValueError\u001b[0m                                Traceback (most recent call last)",
            "\u001b[0;32m<ipython-input-5-9a2fbb8b7f74>\u001b[0m in \u001b[0;36m<module>\u001b[0;34m()\u001b[0m\n\u001b[1;32m     11\u001b[0m     \u001b[0mplt\u001b[0m\u001b[0;34m.\u001b[0m\u001b[0mshow\u001b[0m\u001b[0;34m(\u001b[0m\u001b[0;34m)\u001b[0m\u001b[0;34m\u001b[0m\u001b[0;34m\u001b[0m\u001b[0m\n\u001b[1;32m     12\u001b[0m \u001b[0;34m\u001b[0m\u001b[0m\n\u001b[0;32m---> 13\u001b[0;31m \u001b[0mplot_dist\u001b[0m\u001b[0;34m(\u001b[0m\u001b[0;34m)\u001b[0m\u001b[0;34m\u001b[0m\u001b[0;34m\u001b[0m\u001b[0m\n\u001b[0m",
            "\u001b[0;32m<ipython-input-5-9a2fbb8b7f74>\u001b[0m in \u001b[0;36mplot_dist\u001b[0;34m()\u001b[0m\n\u001b[1;32m      8\u001b[0m \u001b[0;32mdef\u001b[0m \u001b[0mplot_dist\u001b[0m\u001b[0;34m(\u001b[0m\u001b[0;34m)\u001b[0m\u001b[0;34m:\u001b[0m\u001b[0;34m\u001b[0m\u001b[0;34m\u001b[0m\u001b[0m\n\u001b[1;32m      9\u001b[0m   \u001b[0;32mfor\u001b[0m \u001b[0mfeat\u001b[0m \u001b[0;32min\u001b[0m \u001b[0mfeats\u001b[0m\u001b[0;34m:\u001b[0m\u001b[0;34m\u001b[0m\u001b[0;34m\u001b[0m\u001b[0m\n\u001b[0;32m---> 10\u001b[0;31m     \u001b[0msns\u001b[0m\u001b[0;34m.\u001b[0m\u001b[0mhistplot\u001b[0m\u001b[0;34m(\u001b[0m\u001b[0mdata\u001b[0m\u001b[0;34m=\u001b[0m\u001b[0mdf\u001b[0m\u001b[0;34m,\u001b[0m \u001b[0mx\u001b[0m\u001b[0;34m=\u001b[0m\u001b[0mfeat\u001b[0m\u001b[0;34m,\u001b[0m \u001b[0mbins\u001b[0m\u001b[0;34m=\u001b[0m\u001b[0;36m30\u001b[0m\u001b[0;34m,\u001b[0m \u001b[0mkde\u001b[0m\u001b[0;34m=\u001b[0m\u001b[0;32mFalse\u001b[0m\u001b[0;34m,\u001b[0m \u001b[0mhue\u001b[0m\u001b[0;34m=\u001b[0m\u001b[0;34m'Transported'\u001b[0m\u001b[0;34m,\u001b[0m \u001b[0mmultiple\u001b[0m\u001b[0;34m=\u001b[0m\u001b[0;34m'stack'\u001b[0m\u001b[0;34m)\u001b[0m\u001b[0;34m\u001b[0m\u001b[0;34m\u001b[0m\u001b[0m\n\u001b[0m\u001b[1;32m     11\u001b[0m     \u001b[0mplt\u001b[0m\u001b[0;34m.\u001b[0m\u001b[0mshow\u001b[0m\u001b[0;34m(\u001b[0m\u001b[0;34m)\u001b[0m\u001b[0;34m\u001b[0m\u001b[0;34m\u001b[0m\u001b[0m\n\u001b[1;32m     12\u001b[0m \u001b[0;34m\u001b[0m\u001b[0m\n",
            "\u001b[0;32m/usr/local/lib/python3.7/dist-packages/seaborn/distributions.py\u001b[0m in \u001b[0;36mhistplot\u001b[0;34m(data, x, y, hue, weights, stat, bins, binwidth, binrange, discrete, cumulative, common_bins, common_norm, multiple, element, fill, shrink, kde, kde_kws, line_kws, thresh, pthresh, pmax, cbar, cbar_ax, cbar_kws, palette, hue_order, hue_norm, color, log_scale, legend, ax, **kwargs)\u001b[0m\n\u001b[1;32m   1430\u001b[0m     p = _DistributionPlotter(\n\u001b[1;32m   1431\u001b[0m         \u001b[0mdata\u001b[0m\u001b[0;34m=\u001b[0m\u001b[0mdata\u001b[0m\u001b[0;34m,\u001b[0m\u001b[0;34m\u001b[0m\u001b[0;34m\u001b[0m\u001b[0m\n\u001b[0;32m-> 1432\u001b[0;31m         \u001b[0mvariables\u001b[0m\u001b[0;34m=\u001b[0m\u001b[0m_DistributionPlotter\u001b[0m\u001b[0;34m.\u001b[0m\u001b[0mget_semantics\u001b[0m\u001b[0;34m(\u001b[0m\u001b[0mlocals\u001b[0m\u001b[0;34m(\u001b[0m\u001b[0;34m)\u001b[0m\u001b[0;34m)\u001b[0m\u001b[0;34m\u001b[0m\u001b[0;34m\u001b[0m\u001b[0m\n\u001b[0m\u001b[1;32m   1433\u001b[0m     )\n\u001b[1;32m   1434\u001b[0m \u001b[0;34m\u001b[0m\u001b[0m\n",
            "\u001b[0;32m/usr/local/lib/python3.7/dist-packages/seaborn/distributions.py\u001b[0m in \u001b[0;36m__init__\u001b[0;34m(self, data, variables)\u001b[0m\n\u001b[1;32m    109\u001b[0m     ):\n\u001b[1;32m    110\u001b[0m \u001b[0;34m\u001b[0m\u001b[0m\n\u001b[0;32m--> 111\u001b[0;31m         \u001b[0msuper\u001b[0m\u001b[0;34m(\u001b[0m\u001b[0;34m)\u001b[0m\u001b[0;34m.\u001b[0m\u001b[0m__init__\u001b[0m\u001b[0;34m(\u001b[0m\u001b[0mdata\u001b[0m\u001b[0;34m=\u001b[0m\u001b[0mdata\u001b[0m\u001b[0;34m,\u001b[0m \u001b[0mvariables\u001b[0m\u001b[0;34m=\u001b[0m\u001b[0mvariables\u001b[0m\u001b[0;34m)\u001b[0m\u001b[0;34m\u001b[0m\u001b[0;34m\u001b[0m\u001b[0m\n\u001b[0m\u001b[1;32m    112\u001b[0m \u001b[0;34m\u001b[0m\u001b[0m\n\u001b[1;32m    113\u001b[0m     \u001b[0;34m@\u001b[0m\u001b[0mproperty\u001b[0m\u001b[0;34m\u001b[0m\u001b[0;34m\u001b[0m\u001b[0m\n",
            "\u001b[0;32m/usr/local/lib/python3.7/dist-packages/seaborn/_core.py\u001b[0m in \u001b[0;36m__init__\u001b[0;34m(self, data, variables)\u001b[0m\n\u001b[1;32m    603\u001b[0m     \u001b[0;32mdef\u001b[0m \u001b[0m__init__\u001b[0m\u001b[0;34m(\u001b[0m\u001b[0mself\u001b[0m\u001b[0;34m,\u001b[0m \u001b[0mdata\u001b[0m\u001b[0;34m=\u001b[0m\u001b[0;32mNone\u001b[0m\u001b[0;34m,\u001b[0m \u001b[0mvariables\u001b[0m\u001b[0;34m=\u001b[0m\u001b[0;34m{\u001b[0m\u001b[0;34m}\u001b[0m\u001b[0;34m)\u001b[0m\u001b[0;34m:\u001b[0m\u001b[0;34m\u001b[0m\u001b[0;34m\u001b[0m\u001b[0m\n\u001b[1;32m    604\u001b[0m \u001b[0;34m\u001b[0m\u001b[0m\n\u001b[0;32m--> 605\u001b[0;31m         \u001b[0mself\u001b[0m\u001b[0;34m.\u001b[0m\u001b[0massign_variables\u001b[0m\u001b[0;34m(\u001b[0m\u001b[0mdata\u001b[0m\u001b[0;34m,\u001b[0m \u001b[0mvariables\u001b[0m\u001b[0;34m)\u001b[0m\u001b[0;34m\u001b[0m\u001b[0;34m\u001b[0m\u001b[0m\n\u001b[0m\u001b[1;32m    606\u001b[0m \u001b[0;34m\u001b[0m\u001b[0m\n\u001b[1;32m    607\u001b[0m         \u001b[0;32mfor\u001b[0m \u001b[0mvar\u001b[0m\u001b[0;34m,\u001b[0m \u001b[0mcls\u001b[0m \u001b[0;32min\u001b[0m \u001b[0mself\u001b[0m\u001b[0;34m.\u001b[0m\u001b[0m_semantic_mappings\u001b[0m\u001b[0;34m.\u001b[0m\u001b[0mitems\u001b[0m\u001b[0;34m(\u001b[0m\u001b[0;34m)\u001b[0m\u001b[0;34m:\u001b[0m\u001b[0;34m\u001b[0m\u001b[0;34m\u001b[0m\u001b[0m\n",
            "\u001b[0;32m/usr/local/lib/python3.7/dist-packages/seaborn/_core.py\u001b[0m in \u001b[0;36massign_variables\u001b[0;34m(self, data, variables)\u001b[0m\n\u001b[1;32m    667\u001b[0m             \u001b[0mself\u001b[0m\u001b[0;34m.\u001b[0m\u001b[0minput_format\u001b[0m \u001b[0;34m=\u001b[0m \u001b[0;34m\"long\"\u001b[0m\u001b[0;34m\u001b[0m\u001b[0;34m\u001b[0m\u001b[0m\n\u001b[1;32m    668\u001b[0m             plot_data, variables = self._assign_variables_longform(\n\u001b[0;32m--> 669\u001b[0;31m                 \u001b[0mdata\u001b[0m\u001b[0;34m,\u001b[0m \u001b[0;34m**\u001b[0m\u001b[0mvariables\u001b[0m\u001b[0;34m,\u001b[0m\u001b[0;34m\u001b[0m\u001b[0;34m\u001b[0m\u001b[0m\n\u001b[0m\u001b[1;32m    670\u001b[0m             )\n\u001b[1;32m    671\u001b[0m \u001b[0;34m\u001b[0m\u001b[0m\n",
            "\u001b[0;32m/usr/local/lib/python3.7/dist-packages/seaborn/_core.py\u001b[0m in \u001b[0;36m_assign_variables_longform\u001b[0;34m(self, data, **kwargs)\u001b[0m\n\u001b[1;32m    901\u001b[0m \u001b[0;34m\u001b[0m\u001b[0m\n\u001b[1;32m    902\u001b[0m                 \u001b[0merr\u001b[0m \u001b[0;34m=\u001b[0m \u001b[0;34mf\"Could not interpret value `{val}` for parameter `{key}`\"\u001b[0m\u001b[0;34m\u001b[0m\u001b[0;34m\u001b[0m\u001b[0m\n\u001b[0;32m--> 903\u001b[0;31m                 \u001b[0;32mraise\u001b[0m \u001b[0mValueError\u001b[0m\u001b[0;34m(\u001b[0m\u001b[0merr\u001b[0m\u001b[0;34m)\u001b[0m\u001b[0;34m\u001b[0m\u001b[0;34m\u001b[0m\u001b[0m\n\u001b[0m\u001b[1;32m    904\u001b[0m \u001b[0;34m\u001b[0m\u001b[0m\n\u001b[1;32m    905\u001b[0m             \u001b[0;32melse\u001b[0m\u001b[0;34m:\u001b[0m\u001b[0;34m\u001b[0m\u001b[0;34m\u001b[0m\u001b[0m\n",
            "\u001b[0;31mValueError\u001b[0m: Could not interpret value `total_spend` for parameter `x`"
          ]
        }
      ]
    },
    {
      "cell_type": "code",
      "source": [],
      "metadata": {
        "id": "0HS8rVXD8wS7"
      },
      "execution_count": null,
      "outputs": []
    },
    {
      "cell_type": "markdown",
      "source": [
        "### Clean the data \n",
        "---\n",
        "* identify important columns and remove N/A's if necessary"
      ],
      "metadata": {
        "id": "9dG1zrfZ7siY"
      }
    },
    {
      "cell_type": "code",
      "source": [
        "df.columns"
      ],
      "metadata": {
        "id": "neHyT4m5-npS"
      },
      "execution_count": null,
      "outputs": []
    },
    {
      "cell_type": "code",
      "source": [
        "# lots of important predictors eg VIP contain null, so N/A's are going to be removed from the dataset \n",
        "\n",
        "df = df.dropna(subset = ['HomePlanet', 'CryoSleep', 'Cabin', 'Destination', 'Age',\n",
        "       'VIP', 'RoomService', 'FoodCourt', 'ShoppingMall', 'Spa', 'VRDeck',\n",
        "       'Transported'])\n",
        "df.count()"
      ],
      "metadata": {
        "colab": {
          "base_uri": "https://localhost:8080/"
        },
        "id": "B53bJihQ7rKX",
        "outputId": "4b3f6d26-9f38-4b36-a3c2-84b170222041"
      },
      "execution_count": null,
      "outputs": [
        {
          "output_type": "execute_result",
          "data": {
            "text/plain": [
              "PassengerId     6764\n",
              "HomePlanet      6764\n",
              "CryoSleep       6764\n",
              "Cabin           6764\n",
              "Destination     6764\n",
              "Age             6764\n",
              "VIP             6764\n",
              "RoomService     6764\n",
              "FoodCourt       6764\n",
              "ShoppingMall    6764\n",
              "Spa             6764\n",
              "VRDeck          6764\n",
              "Name            6606\n",
              "Transported     6764\n",
              "dtype: int64"
            ]
          },
          "metadata": {},
          "execution_count": 8
        }
      ]
    },
    {
      "cell_type": "markdown",
      "source": [
        "### Create total spend column\n",
        "--- \n",
        "To make things easy lets summarise the onboard spending "
      ],
      "metadata": {
        "id": "fmBxZyUpBo1M"
      }
    },
    {
      "cell_type": "code",
      "source": [
        "df['total_spend'] = df['RoomService'] + df['FoodCourt'] + df['ShoppingMall'] +df['Spa'] + df['VRDeck'] "
      ],
      "metadata": {
        "id": "NvdIRnCZDYpF"
      },
      "execution_count": null,
      "outputs": []
    },
    {
      "cell_type": "markdown",
      "source": [
        "### Dummy code the columns \n",
        "---\n"
      ],
      "metadata": {
        "id": "onVAPmtkA-_9"
      }
    },
    {
      "cell_type": "code",
      "source": [
        "import operator \n",
        "\n",
        "# define the operator function \n",
        "\n",
        "def use_operator(a,b,op):\n",
        "    map = {'>': operator.gt, '>=': operator.ge,\n",
        "                '==': operator.eq, '<': operator.lt, '<=': operator.le}\n",
        "    return map[op](a,b)\n",
        "\n",
        "\n",
        "df2 = df.copy()\n",
        "\n",
        "\n",
        "# encode functions \n",
        "\n",
        "def encode(df, **kwds):\n",
        "  key = kwds['key']\n",
        "  indicator = kwds['indicator']\n",
        "  op = kwds['op']\n",
        "  if use_operator(df[key], indicator, op):\n",
        "    return 1\n",
        "  else:\n",
        "    return 0\n",
        "  return\n",
        "\n",
        "\n",
        "def encode_planet(df, **kwds):\n",
        "  col = kwds['col']\n",
        "  str1 = kwds['str1']\n",
        "  str2 = kwds['str2']\n",
        "  if df[col] == str1:\n",
        "    return 0 \n",
        "  elif df[col] == str2:\n",
        "    return 1\n",
        "  else:\n",
        "    return 2\n",
        "\n",
        "\n",
        "# encoding the columns\n",
        "\n",
        "df2['room'] = df2['Cabin'].str.split('/').str.get(0)\n",
        "df2['floor'] = df2['Cabin'].str.split('/').str.get(1)\n",
        "df2['deck'] = df2['Cabin'].str.split('/').str.get(2)\n",
        "df2['planets'] = df2.apply(encode_planet, axis=1, col = \"Destination\", str1=\"TRAPPIST-1e\", str2='PSO J318.5-22')\n",
        "df2['home'] = df2.apply(encode_planet, axis=1, col = 'HomePlanet', str1='Earth', str2='Mars')\n",
        "df2['Transported'] = df2.apply(encode, axis=1, op=\"==\", key='Transported', indicator=True)\n",
        "df2['VIP'] = df2.apply(encode, axis=1, op=\"==\",key='VIP', indicator=True)\n",
        "df2['CryoSleep'] = df2.apply(encode, axis=1, op=\"==\", key='CryoSleep', indicator=True)\n",
        "df2['spend_yes'] = df2.apply(encode, axis=1, op=\">\",key='total_spend', indicator=0)\n",
        "df2['age_old'] = df2.apply(encode, axis=1, op=\">\",key='Age', indicator=df2['Age'].mean())\n",
        "df2['deck'] = df2.apply(encode, axis=1, op='==', key='deck', indicator='P')\n",
        "\n",
        "df2['floor'] = df2['floor'].apply(pd.to_numeric)\n",
        "\n",
        "df2.head()"
      ],
      "metadata": {
        "colab": {
          "base_uri": "https://localhost:8080/",
          "height": 236
        },
        "id": "FvPDILpjA3Dm",
        "outputId": "69ce3170-0521-44be-91e9-899846852565"
      },
      "execution_count": null,
      "outputs": [
        {
          "output_type": "execute_result",
          "data": {
            "text/plain": [
              "  PassengerId HomePlanet  CryoSleep  Cabin  Destination   Age  VIP  \\\n",
              "0     0001_01     Europa          0  B/0/P  TRAPPIST-1e  39.0    0   \n",
              "1     0002_01      Earth          0  F/0/S  TRAPPIST-1e  24.0    0   \n",
              "2     0003_01     Europa          0  A/0/S  TRAPPIST-1e  58.0    1   \n",
              "3     0003_02     Europa          0  A/0/S  TRAPPIST-1e  33.0    0   \n",
              "4     0004_01      Earth          0  F/1/S  TRAPPIST-1e  16.0    0   \n",
              "\n",
              "   RoomService  FoodCourt  ShoppingMall  ...               Name  Transported  \\\n",
              "0          0.0        0.0           0.0  ...    Maham Ofracculy            0   \n",
              "1        109.0        9.0          25.0  ...       Juanna Vines            1   \n",
              "2         43.0     3576.0           0.0  ...      Altark Susent            0   \n",
              "3          0.0     1283.0         371.0  ...       Solam Susent            0   \n",
              "4        303.0       70.0         151.0  ...  Willy Santantines            1   \n",
              "\n",
              "  total_spend  room  floor deck  planets  home  spend_yes  age_old  \n",
              "0         0.0     B      0    1        0     2          0        1  \n",
              "1       736.0     F      0    0        0     0          1        0  \n",
              "2     10383.0     A      0    0        0     2          1        1  \n",
              "3      5176.0     A      0    0        0     2          1        1  \n",
              "4      1091.0     F      1    0        0     0          1        0  \n",
              "\n",
              "[5 rows x 22 columns]"
            ],
            "text/html": [
              "\n",
              "  <div id=\"df-109b6ebd-18ae-48e3-ade1-45e14a29b116\">\n",
              "    <div class=\"colab-df-container\">\n",
              "      <div>\n",
              "<style scoped>\n",
              "    .dataframe tbody tr th:only-of-type {\n",
              "        vertical-align: middle;\n",
              "    }\n",
              "\n",
              "    .dataframe tbody tr th {\n",
              "        vertical-align: top;\n",
              "    }\n",
              "\n",
              "    .dataframe thead th {\n",
              "        text-align: right;\n",
              "    }\n",
              "</style>\n",
              "<table border=\"1\" class=\"dataframe\">\n",
              "  <thead>\n",
              "    <tr style=\"text-align: right;\">\n",
              "      <th></th>\n",
              "      <th>PassengerId</th>\n",
              "      <th>HomePlanet</th>\n",
              "      <th>CryoSleep</th>\n",
              "      <th>Cabin</th>\n",
              "      <th>Destination</th>\n",
              "      <th>Age</th>\n",
              "      <th>VIP</th>\n",
              "      <th>RoomService</th>\n",
              "      <th>FoodCourt</th>\n",
              "      <th>ShoppingMall</th>\n",
              "      <th>...</th>\n",
              "      <th>Name</th>\n",
              "      <th>Transported</th>\n",
              "      <th>total_spend</th>\n",
              "      <th>room</th>\n",
              "      <th>floor</th>\n",
              "      <th>deck</th>\n",
              "      <th>planets</th>\n",
              "      <th>home</th>\n",
              "      <th>spend_yes</th>\n",
              "      <th>age_old</th>\n",
              "    </tr>\n",
              "  </thead>\n",
              "  <tbody>\n",
              "    <tr>\n",
              "      <th>0</th>\n",
              "      <td>0001_01</td>\n",
              "      <td>Europa</td>\n",
              "      <td>0</td>\n",
              "      <td>B/0/P</td>\n",
              "      <td>TRAPPIST-1e</td>\n",
              "      <td>39.0</td>\n",
              "      <td>0</td>\n",
              "      <td>0.0</td>\n",
              "      <td>0.0</td>\n",
              "      <td>0.0</td>\n",
              "      <td>...</td>\n",
              "      <td>Maham Ofracculy</td>\n",
              "      <td>0</td>\n",
              "      <td>0.0</td>\n",
              "      <td>B</td>\n",
              "      <td>0</td>\n",
              "      <td>1</td>\n",
              "      <td>0</td>\n",
              "      <td>2</td>\n",
              "      <td>0</td>\n",
              "      <td>1</td>\n",
              "    </tr>\n",
              "    <tr>\n",
              "      <th>1</th>\n",
              "      <td>0002_01</td>\n",
              "      <td>Earth</td>\n",
              "      <td>0</td>\n",
              "      <td>F/0/S</td>\n",
              "      <td>TRAPPIST-1e</td>\n",
              "      <td>24.0</td>\n",
              "      <td>0</td>\n",
              "      <td>109.0</td>\n",
              "      <td>9.0</td>\n",
              "      <td>25.0</td>\n",
              "      <td>...</td>\n",
              "      <td>Juanna Vines</td>\n",
              "      <td>1</td>\n",
              "      <td>736.0</td>\n",
              "      <td>F</td>\n",
              "      <td>0</td>\n",
              "      <td>0</td>\n",
              "      <td>0</td>\n",
              "      <td>0</td>\n",
              "      <td>1</td>\n",
              "      <td>0</td>\n",
              "    </tr>\n",
              "    <tr>\n",
              "      <th>2</th>\n",
              "      <td>0003_01</td>\n",
              "      <td>Europa</td>\n",
              "      <td>0</td>\n",
              "      <td>A/0/S</td>\n",
              "      <td>TRAPPIST-1e</td>\n",
              "      <td>58.0</td>\n",
              "      <td>1</td>\n",
              "      <td>43.0</td>\n",
              "      <td>3576.0</td>\n",
              "      <td>0.0</td>\n",
              "      <td>...</td>\n",
              "      <td>Altark Susent</td>\n",
              "      <td>0</td>\n",
              "      <td>10383.0</td>\n",
              "      <td>A</td>\n",
              "      <td>0</td>\n",
              "      <td>0</td>\n",
              "      <td>0</td>\n",
              "      <td>2</td>\n",
              "      <td>1</td>\n",
              "      <td>1</td>\n",
              "    </tr>\n",
              "    <tr>\n",
              "      <th>3</th>\n",
              "      <td>0003_02</td>\n",
              "      <td>Europa</td>\n",
              "      <td>0</td>\n",
              "      <td>A/0/S</td>\n",
              "      <td>TRAPPIST-1e</td>\n",
              "      <td>33.0</td>\n",
              "      <td>0</td>\n",
              "      <td>0.0</td>\n",
              "      <td>1283.0</td>\n",
              "      <td>371.0</td>\n",
              "      <td>...</td>\n",
              "      <td>Solam Susent</td>\n",
              "      <td>0</td>\n",
              "      <td>5176.0</td>\n",
              "      <td>A</td>\n",
              "      <td>0</td>\n",
              "      <td>0</td>\n",
              "      <td>0</td>\n",
              "      <td>2</td>\n",
              "      <td>1</td>\n",
              "      <td>1</td>\n",
              "    </tr>\n",
              "    <tr>\n",
              "      <th>4</th>\n",
              "      <td>0004_01</td>\n",
              "      <td>Earth</td>\n",
              "      <td>0</td>\n",
              "      <td>F/1/S</td>\n",
              "      <td>TRAPPIST-1e</td>\n",
              "      <td>16.0</td>\n",
              "      <td>0</td>\n",
              "      <td>303.0</td>\n",
              "      <td>70.0</td>\n",
              "      <td>151.0</td>\n",
              "      <td>...</td>\n",
              "      <td>Willy Santantines</td>\n",
              "      <td>1</td>\n",
              "      <td>1091.0</td>\n",
              "      <td>F</td>\n",
              "      <td>1</td>\n",
              "      <td>0</td>\n",
              "      <td>0</td>\n",
              "      <td>0</td>\n",
              "      <td>1</td>\n",
              "      <td>0</td>\n",
              "    </tr>\n",
              "  </tbody>\n",
              "</table>\n",
              "<p>5 rows × 22 columns</p>\n",
              "</div>\n",
              "      <button class=\"colab-df-convert\" onclick=\"convertToInteractive('df-109b6ebd-18ae-48e3-ade1-45e14a29b116')\"\n",
              "              title=\"Convert this dataframe to an interactive table.\"\n",
              "              style=\"display:none;\">\n",
              "        \n",
              "  <svg xmlns=\"http://www.w3.org/2000/svg\" height=\"24px\"viewBox=\"0 0 24 24\"\n",
              "       width=\"24px\">\n",
              "    <path d=\"M0 0h24v24H0V0z\" fill=\"none\"/>\n",
              "    <path d=\"M18.56 5.44l.94 2.06.94-2.06 2.06-.94-2.06-.94-.94-2.06-.94 2.06-2.06.94zm-11 1L8.5 8.5l.94-2.06 2.06-.94-2.06-.94L8.5 2.5l-.94 2.06-2.06.94zm10 10l.94 2.06.94-2.06 2.06-.94-2.06-.94-.94-2.06-.94 2.06-2.06.94z\"/><path d=\"M17.41 7.96l-1.37-1.37c-.4-.4-.92-.59-1.43-.59-.52 0-1.04.2-1.43.59L10.3 9.45l-7.72 7.72c-.78.78-.78 2.05 0 2.83L4 21.41c.39.39.9.59 1.41.59.51 0 1.02-.2 1.41-.59l7.78-7.78 2.81-2.81c.8-.78.8-2.07 0-2.86zM5.41 20L4 18.59l7.72-7.72 1.47 1.35L5.41 20z\"/>\n",
              "  </svg>\n",
              "      </button>\n",
              "      \n",
              "  <style>\n",
              "    .colab-df-container {\n",
              "      display:flex;\n",
              "      flex-wrap:wrap;\n",
              "      gap: 12px;\n",
              "    }\n",
              "\n",
              "    .colab-df-convert {\n",
              "      background-color: #E8F0FE;\n",
              "      border: none;\n",
              "      border-radius: 50%;\n",
              "      cursor: pointer;\n",
              "      display: none;\n",
              "      fill: #1967D2;\n",
              "      height: 32px;\n",
              "      padding: 0 0 0 0;\n",
              "      width: 32px;\n",
              "    }\n",
              "\n",
              "    .colab-df-convert:hover {\n",
              "      background-color: #E2EBFA;\n",
              "      box-shadow: 0px 1px 2px rgba(60, 64, 67, 0.3), 0px 1px 3px 1px rgba(60, 64, 67, 0.15);\n",
              "      fill: #174EA6;\n",
              "    }\n",
              "\n",
              "    [theme=dark] .colab-df-convert {\n",
              "      background-color: #3B4455;\n",
              "      fill: #D2E3FC;\n",
              "    }\n",
              "\n",
              "    [theme=dark] .colab-df-convert:hover {\n",
              "      background-color: #434B5C;\n",
              "      box-shadow: 0px 1px 3px 1px rgba(0, 0, 0, 0.15);\n",
              "      filter: drop-shadow(0px 1px 2px rgba(0, 0, 0, 0.3));\n",
              "      fill: #FFFFFF;\n",
              "    }\n",
              "  </style>\n",
              "\n",
              "      <script>\n",
              "        const buttonEl =\n",
              "          document.querySelector('#df-109b6ebd-18ae-48e3-ade1-45e14a29b116 button.colab-df-convert');\n",
              "        buttonEl.style.display =\n",
              "          google.colab.kernel.accessAllowed ? 'block' : 'none';\n",
              "\n",
              "        async function convertToInteractive(key) {\n",
              "          const element = document.querySelector('#df-109b6ebd-18ae-48e3-ade1-45e14a29b116');\n",
              "          const dataTable =\n",
              "            await google.colab.kernel.invokeFunction('convertToInteractive',\n",
              "                                                     [key], {});\n",
              "          if (!dataTable) return;\n",
              "\n",
              "          const docLinkHtml = 'Like what you see? Visit the ' +\n",
              "            '<a target=\"_blank\" href=https://colab.research.google.com/notebooks/data_table.ipynb>data table notebook</a>'\n",
              "            + ' to learn more about interactive tables.';\n",
              "          element.innerHTML = '';\n",
              "          dataTable['output_type'] = 'display_data';\n",
              "          await google.colab.output.renderOutput(dataTable, element);\n",
              "          const docLink = document.createElement('div');\n",
              "          docLink.innerHTML = docLinkHtml;\n",
              "          element.appendChild(docLink);\n",
              "        }\n",
              "      </script>\n",
              "    </div>\n",
              "  </div>\n",
              "  "
            ]
          },
          "metadata": {},
          "execution_count": 10
        }
      ]
    },
    {
      "cell_type": "code",
      "source": [],
      "metadata": {
        "id": "-astFxb-smfj"
      },
      "execution_count": null,
      "outputs": []
    },
    {
      "cell_type": "code",
      "source": [
        "df2.columns"
      ],
      "metadata": {
        "id": "PI-9efqbI6gV"
      },
      "execution_count": null,
      "outputs": []
    },
    {
      "cell_type": "markdown",
      "source": [
        "### Prepare for model\n",
        "---"
      ],
      "metadata": {
        "id": "1BJW1Hd6WJnl"
      }
    },
    {
      "cell_type": "code",
      "source": [
        "from sklearn.model_selection import train_test_split\n",
        "\n",
        "train, test = train_test_split(df2, test_size = 0.30, random_state=2)"
      ],
      "metadata": {
        "id": "Hb9tsI_VPx4I"
      },
      "execution_count": null,
      "outputs": []
    },
    {
      "cell_type": "code",
      "source": [
        "train.describe()"
      ],
      "metadata": {
        "id": "cK3IB_1RR-b7"
      },
      "execution_count": null,
      "outputs": []
    },
    {
      "cell_type": "markdown",
      "source": [
        "### Finding proportions\n",
        "---\n",
        "In order to identify which columns have potentially predictive power, I will need to find the proportions of each column which were transported \n",
        "\n",
        "A good indicator is one that is >70% "
      ],
      "metadata": {
        "id": "vav8saAoYNy_"
      }
    },
    {
      "cell_type": "code",
      "source": [
        "# defining proportion functions \n",
        "\n",
        "def get_prop(df, col,op, ind, trans):\n",
        "  prop = df[(use_operator(df[col],ind, op)) & (df['Transported'] == trans)][col].count()/df[(use_operator(df[col],ind, op))][col].count()*100\n",
        "  return prop\n",
        "\n",
        "\n",
        "def get_prop_dual(df, col1,col2,op, ind1,ind2, trans):\n",
        "  prop = df[(use_operator(df[col1],ind1, op)) &(use_operator(df[col2],ind2,op)) & (\n",
        "      df['Transported'] == trans)][col1].count()/df[(use_operator(df[col1],ind1, op)) &(use_operator(df[col2],ind2,op))][col1].count()*100\n",
        "  return prop\n"
      ],
      "metadata": {
        "id": "fdMUWREAY4pT"
      },
      "execution_count": null,
      "outputs": []
    },
    {
      "cell_type": "code",
      "source": [
        "df[(df[col] == indicator]) & df['transported'] == 1_or_0][col].count() / df[df[col] == indicator][col].count() * 100 \n",
        "# if using transported == 1 for example, to get the value when transported == 0 just do 1 minus (-) the proportion youve aleady found"
      ],
      "metadata": {
        "id": "6Tfs_7vJS5E8"
      },
      "execution_count": null,
      "outputs": []
    },
    {
      "cell_type": "code",
      "source": [
        "#Using the total spend column - those who spent anything and those who didnt (0)\n",
        "\n",
        "\n",
        "\n",
        "spend_above = get_prop(train, 'total_spend','>', 0, 1)\n",
        "spend_below = get_prop(train, 'total_spend','<=', 0, 1)\n",
        "spend_above_die = get_prop(train, 'total_spend','>', 0, 0)\n",
        "spend_below_die = get_prop(train, 'total_spend','<=', 0, 0)\n",
        "\n",
        "\n",
        "print(spend_above, spend_below, spend_above_die, spend_below_die)\n"
      ],
      "metadata": {
        "id": "rICip7hEORIc"
      },
      "execution_count": null,
      "outputs": []
    },
    {
      "cell_type": "code",
      "source": [
        "# Age as an indicator?\n",
        "\n",
        "age_above = get_prop(train, 'age_old', '==', 1, 1)\n",
        "age_below = get_prop(train, 'age_old', '==', 0, 1)\n",
        "age_above_not = get_prop(train, 'age_old', '==', 1, 0)\n",
        "age_below_not = get_prop(train, 'age_old', '==', 0, 0)\n",
        "\n",
        "print(age_above, age_below, age_above_not, age_below_not)\n",
        "\n",
        "#not a good indicator"
      ],
      "metadata": {
        "id": "j0T0ewjUS2ej"
      },
      "execution_count": null,
      "outputs": []
    },
    {
      "cell_type": "code",
      "source": [
        "# cabins?\n",
        "\n",
        "cab_p = get_prop(train, 'deck', '==', 0, 1)\n",
        "cab_s = get_prop(train, 'deck', '==', 1, 1)\n",
        "\n",
        "\n",
        "print(cab_p, cab_s, cab_p_die, cab_s_die)\n",
        "\n",
        "#not a good indicator"
      ],
      "metadata": {
        "id": "0HjgCoNabRFi"
      },
      "execution_count": null,
      "outputs": []
    },
    {
      "cell_type": "code",
      "source": [
        "# VIP?\n",
        "\n",
        "vip_y = get_prop(train, 'VIP', '==', 1, 1)\n",
        "vip_n = get_prop(train, 'VIP', '==', 0, 1)\n",
        "vip_y_die = get_prop(train, 'VIP', '==', 1, 0)\n",
        "vip_n_die = get_prop(train, 'VIP', '==', 0, 0)\n",
        "\n",
        "print(vip_y, vip_n, vip_y_die, vip_n_die)\n",
        "\n",
        "#not a good indicator"
      ],
      "metadata": {
        "id": "fw2ku1c7b3_1"
      },
      "execution_count": null,
      "outputs": []
    },
    {
      "cell_type": "code",
      "source": [
        "# cryo?\n",
        "\n",
        "cry_y = get_prop(train, 'CryoSleep', '==', 1, 1)\n",
        "cry_n = get_prop(train, 'CryoSleep', '==', 0, 1)\n",
        "cry_y_die = get_prop(train, 'CryoSleep', '==', 1, 0)\n",
        "cry_n_die = get_prop(train, 'CryoSleep', '==', 0, 0)\n",
        "\n",
        "print(cry_y, cry_n, cry_y_die, cry_n_die)\n",
        "\n",
        "#good indicator > 80% of those in Cryo were transported "
      ],
      "metadata": {
        "id": "imginZ7jcjCy"
      },
      "execution_count": null,
      "outputs": []
    },
    {
      "cell_type": "code",
      "source": [
        "# Lets see if their destination made a difference \n",
        "\n",
        "one = get_prop(train, 'planets', '==', 1, 0)\n",
        "two = get_prop(train, 'planets', '==', 2, 0)\n",
        "zero = get_prop(train, 'planets', '==', 0, 0)\n",
        "\n",
        "print(one,two,zero, 100-one, 100-two, 100-zero)\n",
        "\n",
        "# bad indicators all ~50% "
      ],
      "metadata": {
        "id": "23IYdUMe4aRW"
      },
      "execution_count": null,
      "outputs": []
    },
    {
      "cell_type": "code",
      "source": [
        "# or their origin?\n",
        "\n",
        "one = get_prop(train, 'home', '==', 0, 1) # 65%?\n",
        "two = get_prop(train, 'home', '==', 1, 1)\n",
        "zero = get_prop(train, 'home', '==', 2, 1)\n",
        "\n",
        "print(one,two,zero, 100-one, 100-two, 100-zero)\n",
        "\n",
        "# mostly bad indicator ~50%"
      ],
      "metadata": {
        "id": "RAXzEsoi7wsX"
      },
      "execution_count": null,
      "outputs": []
    },
    {
      "cell_type": "code",
      "source": [
        "# lets try VIP and spending \n",
        "\n",
        "\n",
        "vip_spend_y_y = get_prop_dual(train, 'spend_yes','VIP', '==', 1, 1, 1 ) #30\n",
        "vip_spend_y_n = get_prop_dual(train, 'spend_yes','VIP', '==', 0, 1, 1 )#90\n",
        "vip_spend_n_y = get_prop_dual(train, 'spend_yes','VIP', '==', 1, 0, 1 )#29\n",
        "vip_spend_n_n = get_prop_dual(train, 'spend_yes','VIP', '==', 0, 0, 1 )#77\n",
        "vip_spend_y_y_die = get_prop_dual(train, 'spend_yes','VIP', '==', 1, 1, 0 ) #69\n",
        "vip_spend_y_n_die = get_prop_dual(train, 'spend_yes','VIP', '==', 0, 1, 0) #10%\n",
        "vip_spend_n_y_die = get_prop_dual(train, 'spend_yes','VIP', '==', 1, 0, 0 ) #70%\n",
        "vip_spend_n_n_die = get_prop_dual(train, 'spend_yes','VIP', '==', 0, 0, 0 ) #22%\n",
        "\n",
        "\n",
        "print(vip_spend_y_y, vip_spend_y_n,vip_spend_n_y ,vip_spend_n_n ,vip_spend_y_y_die,vip_spend_y_n_die ,vip_spend_n_y_die,vip_spend_n_n_die)\n",
        "\n",
        "\n",
        "# Good indicator, 90% of those who didnt spend but were in VIP were transported "
      ],
      "metadata": {
        "id": "lxd4FVhNdjXN"
      },
      "execution_count": null,
      "outputs": []
    },
    {
      "cell_type": "code",
      "source": [
        "# What about destination and cryo \n",
        "zero_cry = get_prop_dual(train, 'planets', 'CryoSleep', '==', 0, 1, 1)\n",
        "one_cry = get_prop_dual(train, 'planets', 'CryoSleep', '==', 1, 1, 1)\n",
        "two_cry = get_prop_dual(train, 'planets', 'CryoSleep', '==', 2, 1, 1)\n",
        "\n",
        "zero_cry2 = get_prop_dual(train, 'planets', 'CryoSleep', '==', 0, 0, 1)\n",
        "one_cry2 = get_prop_dual(train, 'planets', 'CryoSleep', '==', 1, 0, 1)\n",
        "two_cry2 = get_prop_dual(train, 'planets', 'CryoSleep', '==', 2, 0, 1)\n",
        "\n",
        "\n",
        "print(zero_cry, one_cry, two_cry)\n",
        "print(zero_cry2, one_cry2, two_cry2)\n",
        "# Very good indicator - 93% of those from going to planet 0 in cryo were transported \n"
      ],
      "metadata": {
        "id": "Z9sk1UBC5MeV"
      },
      "execution_count": null,
      "outputs": []
    },
    {
      "cell_type": "code",
      "source": [
        "# destination & origin?\n",
        "\n",
        "zero_zero = get_prop_dual(train, 'home', 'planets', '==', 0, 0, 1)\n",
        "zero_one = get_prop_dual(train, 'home', 'planets', '==', 0, 1,1)\n",
        "zero_two = get_prop_dual(train, 'home', 'planets', '==', 0, 2, 1)  # only worthy indicator - 76% of people from earth going to planet 2 transported\n",
        "print(zero_zero, zero_one, zero_two)\n",
        "\n",
        "# could the significance be more about coming from earth as all of the earth ones are >60 and earth alone is 65% (see above)\n",
        "\n",
        "zero_zero2 = get_prop_dual(train, 'home', 'planets', '==', 1, 1, 1)\n",
        "zero_one2 = get_prop_dual(train, 'home', 'planets', '==', 1, 0,1)\n",
        "zero_two2 =get_prop_dual(train, 'home', 'planets', '==', 2, 0, 1)\n",
        "zero2 =get_prop_dual(train, 'home', 'planets', '==', 2, 2, 1)\n",
        "\n",
        "print(zero_zero2, zero_one2, zero_two2, zero2)"
      ],
      "metadata": {
        "id": "kXgsowg47814"
      },
      "execution_count": null,
      "outputs": []
    },
    {
      "cell_type": "code",
      "source": [
        "def get_prop_3(df, col1,col2,col3,op, ind1,ind2,ind3, trans):\n",
        "  prop = df[(use_operator(df[col1],ind1, op)) &(use_operator(df[col2],ind2,op)) &(use_operator(df[col3],ind3,op))& (df['Transported'] == trans)][col1].count()/df[(use_operator(df[col1],ind1, op)) &(use_operator(df[col2],ind2,op)&(use_operator(df[col3],ind3,op)))][col1].count()*100\n",
        "  return prop\n",
        "\n",
        "pyy = get_prop_3(train, 'spend_yes','VIP','deck', '==', 1, 1, 1,1 ) \n",
        "pny = get_prop_3(train, 'spend_yes','VIP', 'deck', '==', 0, 1, 1, 1) # high cos of the other 2, the cabin makes little difference\n",
        "pyn = get_prop_3(train, 'spend_yes','VIP', 'deck', '==', 1, 0, 1 ,1 )\n",
        "pnn = get_prop_3(train, 'spend_yes','VIP', 'deck', '==', 0, 0,1, 1 )\n",
        "pyy_die = 100-pyy\n",
        "pny_die = 100-pny\n",
        "pyn_die = 100-pyn\n",
        "pnn_die=100-pnn\n",
        "\n",
        "syy = get_prop_3(train, 'spend_yes','VIP','deck', '==', 1, 1, 0,1 ) \n",
        "sny = get_prop_3(train, 'spend_yes','VIP', 'deck', '==', 0, 1, 0, 1) # high cos of the other 2, the cabin makes little difference\n",
        "syn = get_prop_3(train, 'spend_yes','VIP', 'deck', '==', 1, 0, 0 ,1 )\n",
        "snn = get_prop_3(train, 'spend_yes','VIP', 'deck', '==', 0, 0,0, 1 )\n",
        "syy_die = 100-syy\n",
        "sny_die = 100-sny\n",
        "syn_die = 100-syn\n",
        "snn_die=100-snn\n",
        "\n",
        "print(pyy,pny, pyn, pnn, pyy_die,pny_die, pyn_die, pnn_die)\n",
        "print(syy, sny, syn, snn, 100-syy, 100-sny, 100-syn, 100-snn)\n",
        "\n",
        "# cabin has little impact, numbers are very similar no matter which cabin"
      ],
      "metadata": {
        "id": "3_1j4S2lizFz"
      },
      "execution_count": null,
      "outputs": []
    },
    {
      "cell_type": "markdown",
      "source": [
        "### THE TREE\n",
        "----"
      ],
      "metadata": {
        "id": "cRJnCYHYqcqE"
      }
    },
    {
      "cell_type": "code",
      "source": [
        "def get_transported(df):\n",
        "\n",
        "  if (df['CryoSleep'] == 1) or (df['spend_yes'] ==0 ) :\n",
        "    return 1 \n",
        "  else:\n",
        "    return 0 \n",
        "\n",
        "\n",
        "# adding earth clause brings it down to 45% \n",
        "# | ((df['CryoSleep'] == 1) & (df['planets'] ==1)) ---- doesnt increase it \n",
        "#   if df['RoomService'] >1000: return 0 doesnt change it \n",
        "\n",
        "\n",
        "\n",
        "\n",
        "correct=0\n",
        "test_size = test.shape[0]\n",
        "for i in range(0, test_size):\n",
        "  species = get_transported(test.iloc[i])\n",
        "  if species == test.iloc[i]['Transported']:\n",
        "      correct += 1\n",
        "\n",
        "print (\"Proportion correctly identified\", correct / test_size) \n",
        "\n",
        "\n"
      ],
      "metadata": {
        "colab": {
          "base_uri": "https://localhost:8080/"
        },
        "id": "odE-GvHsqbbR",
        "outputId": "95e2ee1a-9194-43db-bd6e-76744ac58a47"
      },
      "execution_count": null,
      "outputs": [
        {
          "output_type": "stream",
          "name": "stdout",
          "text": [
            "Proportion correctly identified 0.738423645320197\n"
          ]
        }
      ]
    },
    {
      "cell_type": "markdown",
      "source": [
        "### Lets validate using some libraries...\n",
        "----\n"
      ],
      "metadata": {
        "id": "Pohg6wggUqT1"
      }
    },
    {
      "cell_type": "code",
      "source": [
        "x = df2[['CryoSleep', 'floor','deck', \n",
        "       'VIP','total_spend', 'planets', 'home','spend_yes', 'age_old']]\n",
        "y = df2['Transported']"
      ],
      "metadata": {
        "id": "CGalbvU1I0vD"
      },
      "execution_count": null,
      "outputs": []
    },
    {
      "cell_type": "code",
      "source": [
        "X_train, X_test, y_train, y_test = train_test_split(x,y, test_size=0.3, random_state=3)"
      ],
      "metadata": {
        "id": "tnn1wkH73Ibb"
      },
      "execution_count": null,
      "outputs": []
    },
    {
      "cell_type": "code",
      "source": [
        "x"
      ],
      "metadata": {
        "id": "_Q1RN-0S32ah"
      },
      "execution_count": null,
      "outputs": []
    },
    {
      "cell_type": "code",
      "source": [
        "from sklearn.tree import DecisionTreeClassifier\n",
        "from sklearn import metrics\n",
        "\n",
        "\n",
        "dt = DecisionTreeClassifier()\n",
        "\n",
        "dt = dt.fit(X_train, y_train)\n",
        "y_pred = dt.predict(X_test)\n",
        "\n",
        "print(\"Accuracy:\",metrics.accuracy_score(y_test, y_pred))\n"
      ],
      "metadata": {
        "id": "VhZQGSRWUw-W"
      },
      "execution_count": null,
      "outputs": []
    },
    {
      "cell_type": "markdown",
      "source": [
        "So I am actually getting better accuary than sklearn! "
      ],
      "metadata": {
        "id": "6yndXlm55VhQ"
      }
    },
    {
      "cell_type": "markdown",
      "source": [
        "### Improving the tree\n",
        "---\n",
        "\n"
      ],
      "metadata": {
        "id": "eGJcMwaniD3d"
      }
    },
    {
      "cell_type": "code",
      "source": [
        "train.describe()"
      ],
      "metadata": {
        "id": "TygIQmHPigLx"
      },
      "execution_count": null,
      "outputs": []
    },
    {
      "cell_type": "code",
      "source": [
        "\n",
        "\n",
        "spend_above = get_prop(train, 'total_spend','>',0, 1)\n",
        "spend_below = get_prop(train, 'total_spend','<=', 0, 1)\n",
        "\n",
        "\n",
        "print(spend_above, spend_below, 100-spend_above, 100-spend_below)"
      ],
      "metadata": {
        "id": "N0oY4iNojTY6"
      },
      "execution_count": null,
      "outputs": []
    },
    {
      "cell_type": "code",
      "source": [
        "# lets break the spending down...\n",
        "\n",
        "\n",
        "spend_above = get_prop(train, 'RoomService','>', 1000, 1)\n",
        "spend_below = get_prop(train, 'RoomService','<=', 1000, 1)\n",
        "\n",
        "\n",
        "print(spend_above, spend_below, 100-spend_above, 100-spend_below)\n",
        "\n",
        "# all other spending indicators the proportion gets worse when you increase the indicator but with room service it shows less so the more you spent on room service the less likely it was youd be transporteds"
      ],
      "metadata": {
        "id": "RJvmnoHuiIlC"
      },
      "execution_count": null,
      "outputs": []
    },
    {
      "cell_type": "code",
      "source": [
        "spend_above = get_prop(train, 'FoodCourt','>', 0, 1)\n",
        "spend_below = get_prop(train, 'FoodCourt','<=', 0, 1)\n",
        "\n",
        "print(spend_above, spend_below, 100-spend_above, 100-spend_below)"
      ],
      "metadata": {
        "id": "Afp7d2IJinwb"
      },
      "execution_count": null,
      "outputs": []
    },
    {
      "cell_type": "code",
      "source": [
        "spend_above = get_prop(train, 'ShoppingMall','>', 0, 1)\n",
        "spend_below = get_prop(train, 'ShoppingMall','<=', 0, 1)\n",
        "\n",
        "print(spend_above, spend_below, 100-spend_above, 100-spend_below)"
      ],
      "metadata": {
        "id": "vB2CydNZiwVF"
      },
      "execution_count": null,
      "outputs": []
    },
    {
      "cell_type": "code",
      "source": [
        "spend_above = get_prop(train, 'Spa','>', 100, 1)\n",
        "spend_below = get_prop(train, 'Spa','<=', 100, 1)\n",
        "\n",
        "\n",
        "print(spend_above, spend_below, 100-spend_above, 100-spend_below)"
      ],
      "metadata": {
        "id": "WlKZxlI1i3fO"
      },
      "execution_count": null,
      "outputs": []
    },
    {
      "cell_type": "code",
      "source": [
        "spend_above = get_prop(train, 'VRDeck','>', 100, 1)\n",
        "spend_below = get_prop(train, 'VRDeck','<=', 100, 1)\n",
        "\n",
        "print(spend_above, spend_below, 100-spend_above, 100-spend_below)"
      ],
      "metadata": {
        "id": "yXp-i_h6jEai"
      },
      "execution_count": null,
      "outputs": []
    },
    {
      "cell_type": "markdown",
      "source": [
        "So breaking spending down makes no difference lets try some interactions "
      ],
      "metadata": {
        "id": "1TiivRLPnMOH"
      }
    },
    {
      "cell_type": "code",
      "source": [
        "train.columns"
      ],
      "metadata": {
        "id": "JGltV39upRjJ"
      },
      "execution_count": null,
      "outputs": []
    },
    {
      "cell_type": "code",
      "source": [
        "train.info()"
      ],
      "metadata": {
        "id": "KcOCYxFksX0f"
      },
      "execution_count": null,
      "outputs": []
    },
    {
      "cell_type": "code",
      "source": [
        "# correlation matrix to see if any of the variables have interactions to indicate possible proportions \n",
        "import seaborn as sns \n",
        "correlation_matrix = train[['Age', 'VIP', 'floor','deck', 'planets', 'home', 'spend_yes', 'CryoSleep', 'Transported']].corr().round(2)\n",
        "sns.heatmap(data=correlation_matrix, annot=True)\n",
        "\n",
        "# home & floor?"
      ],
      "metadata": {
        "id": "zSe7I0eAnQ0S"
      },
      "execution_count": null,
      "outputs": []
    },
    {
      "cell_type": "code",
      "source": [
        "y = get_prop(train, 'floor', '==', 1, 1)\n",
        "n = get_prop(train, 'floor', '==', 0, 1)\n",
        "\n",
        "print(y, n)"
      ],
      "metadata": {
        "id": "29IIbmO4vvtM"
      },
      "execution_count": null,
      "outputs": []
    },
    {
      "cell_type": "code",
      "source": [
        "yy = get_prop_dual(train, 'floor', 'home', '==', 1, 0, 1)\n",
        "nn = get_prop_dual(train, 'floor', 'home', '==', 0, 0, 1)\n",
        "\n",
        "print(yy,nn)\n",
        "\n",
        "# no one on floor 1 from earth was transported and 75% of those on floor 2 were!\n",
        "\n",
        "yy1 = get_prop_dual(train, 'floor', 'home', '==', 1, 1, 1)\n",
        "nn1 = get_prop_dual(train, 'floor', 'home', '==', 0, 1, 1)\n",
        "\n",
        "# no one from planet 1 on floor 0 was transported \n",
        "print(yy1,nn1)\n",
        "\n",
        "yy2 = get_prop_dual(train, 'floor', 'home', '==', 1, 2, 1)\n",
        "nn2 = get_prop_dual(train, 'floor', 'home', '==', 0, 2, 1)\n",
        "# no one from planet 2 on floor 0 was transported \n",
        "\n",
        "print(yy2,nn2)\n"
      ],
      "metadata": {
        "id": "Sb9hr3r2vUJD"
      },
      "execution_count": null,
      "outputs": []
    },
    {
      "cell_type": "code",
      "source": [
        "def get_trans(df):\n",
        "  if ((df['floor'] == 0) & (df['home'] == 0))|((df['floor'] == 1) & (df['home'] == 2)):\n",
        "        return 1 \n",
        "  if (df['CryoSleep'] == 1) | ((df['VIP'] == 1) & (df['spend_yes'] ==0 )):\n",
        "        return 1 \n",
        "  else:\n",
        "      return 0 \n",
        "\n",
        "\n",
        "# adding earth clause brings it down to 45% \n",
        "# | ((df['CryoSleep'] == 1) & (df['planets'] ==1)) ---- doesnt increase it \n",
        "#   if df['RoomService'] >1000: return 0 doesnt change it \n",
        "# elif df['RoomService'] > 100 or df['Spa'] > 100 or df['VRDeck'] > 100: return 0  doesnt improve it \n",
        "\n",
        "\n",
        "\n",
        "correct=0\n",
        "test_size = test.shape[0]\n",
        "for i in range(0, test_size):\n",
        "  species = get_trans(test.iloc[i])\n",
        "  if species == test.iloc[i]['Transported']:\n",
        "      correct += 1\n",
        "\n",
        "print (\"Proportion correctly identified\", correct / test_size) "
      ],
      "metadata": {
        "id": "bcrhd2FhmWW3"
      },
      "execution_count": null,
      "outputs": []
    }
  ]
}