{
  "nbformat": 4,
  "nbformat_minor": 0,
  "metadata": {
    "colab": {
      "name": "Space Titanic Decision Tree.ipynb",
      "provenance": [],
      "authorship_tag": "ABX9TyPL37xEDj0wZiqmYvHe/Hx0",
      "include_colab_link": true
    },
    "kernelspec": {
      "name": "python3",
      "display_name": "Python 3"
    },
    "language_info": {
      "name": "python"
    }
  },
  "cells": [
    {
      "cell_type": "markdown",
      "metadata": {
        "id": "view-in-github",
        "colab_type": "text"
      },
      "source": [
        "<a href=\"https://colab.research.google.com/github/lilaceri/projects/blob/main/Space_Titanic_Decision_Tree_project_instructions.ipynb\" target=\"_parent\"><img src=\"https://colab.research.google.com/assets/colab-badge.svg\" alt=\"Open In Colab\"/></a>"
      ]
    },
    {
      "cell_type": "markdown",
      "source": [
        "## Task\n",
        "---\n",
        "\n",
        "Write a decision tree to predict who would have been transported in the Titanic Spaceship problem.\n",
        "\n",
        "Dataset: \"\"https://raw.githubusercontent.com/lilaceri/projects/main/datasets/Space%20titanic%20train.csv\"\n",
        "\n",
        "This is based off of the Kaggle competion located here: https://www.kaggle.com/competitions/spaceship-titanic \n",
        "\n"
      ],
      "metadata": {
        "id": "76e9UGlUChNg"
      }
    },
    {
      "cell_type": "markdown",
      "source": [
        "### Background\n",
        "---\n",
        "\n",
        "Welcome to the year 2912, where your data science skills are needed to solve a cosmic mystery. We've received a transmission from four lightyears away and things aren't looking good.\n",
        "\n",
        "The Spaceship Titanic was an interstellar passenger liner launched a month ago. With almost 13,000 passengers on board, the vessel set out on its maiden voyage transporting emigrants from our solar system to three newly habitable exoplanets orbiting nearby stars.\n",
        "\n",
        "While rounding Alpha Centauri en route to its first destination—the torrid 55 Cancri E—the unwary Spaceship Titanic collided with a spacetime anomaly hidden within a dust cloud. Sadly, it met a similar fate as its namesake from 1000 years before. Though the ship stayed intact, almost half of the passengers were transported to an alternate dimension!"
      ],
      "metadata": {
        "id": "2XS2oPFuDIEn"
      }
    },
    {
      "cell_type": "markdown",
      "source": [
        "### Dataset information\n",
        "---\n",
        "\n",
        "PassengerId - A unique Id for each passenger. Each Id takes the form gggg_pp where gggg indicates a group the passenger is travelling with and pp is their number within the group. People in a group are often family members, but not always.  \n",
        "\n",
        "HomePlanet - The planet the passenger departed from, typically their planet of permanent residence.  \n",
        "\n",
        "CryoSleep - Indicates whether the passenger elected to be put into suspended animation for the duration of the voyage. Passengers in cryosleep are confined to their cabins.  \n",
        "\n",
        "Cabin - The cabin number where the passenger is staying. Takes the form deck/num/side, where side can be either P for Port or S for Starboard.  \n",
        "\n",
        "Destination - The planet the passenger will be debarking to.  \n",
        "Age - The age of the passenger.  \n",
        "\n",
        "VIP - Whether the passenger has paid for special VIP service during the voyage.\n",
        "\n",
        "RoomService, FoodCourt, ShoppingMall, Spa, VRDeck - Amount the passenger has billed at each of the Spaceship Titanic's many luxury amenities.\n",
        "\n",
        "Name - The first and last names of the passenger.\n",
        "\n",
        "Transported - Whether the passenger was transported to another dimension. This is the target, the column you are trying to predict.\n",
        "\n",
        "PassengerId - Id for each passenger in the test set.\n",
        "\n",
        "Transported - The target. For each passenger, predict either True or False."
      ],
      "metadata": {
        "id": "f7ZbWXJCDO3-"
      }
    },
    {
      "cell_type": "markdown",
      "source": [
        "### Method\n",
        "---\n",
        "* Inspect and clean\n",
        "* Dummy code the columns \n",
        "* Create a total spend column \n",
        "* Create a spending column of whether or not they spent money onboard - 1 for yes 0 for no\n",
        "* Split data into test and train - 70/30 \n",
        "* Find proportions for different columns of those transported or not - a good indicator is >0.70 or <0.30 (how many were transported / column) \n",
        "* Create a decision tree to predict those who would be transported using if statements"
      ],
      "metadata": {
        "id": "h29wOqHtD6E5"
      }
    },
    {
      "cell_type": "code",
      "source": [
        ""
      ],
      "metadata": {
        "id": "kT9Fekj7GswQ"
      },
      "execution_count": null,
      "outputs": []
    },
    {
      "cell_type": "markdown",
      "source": [
        "The decision tree\n",
        "---\n",
        "\n",
        "Use the function below to build your tree"
      ],
      "metadata": {
        "id": "I6E8UeDOHEsJ"
      }
    },
    {
      "cell_type": "code",
      "source": [
        "def get_transported(df):\n",
        "   \n",
        "\n",
        "   pass\n",
        "\n",
        "\n",
        "\n",
        "\n",
        "\n"
      ],
      "metadata": {
        "id": "-px2kdPQHEH5"
      },
      "execution_count": null,
      "outputs": []
    },
    {
      "cell_type": "markdown",
      "source": [
        "# Test your models accuracy \n",
        "----\n",
        "\n",
        "This test assumes your tree's function is called **get_transported()** and your test dataset is called **test**\n",
        "\n",
        "Run to see how many you correctly predicted"
      ],
      "metadata": {
        "id": "F4hP6N6QGsZ6"
      }
    },
    {
      "cell_type": "code",
      "execution_count": null,
      "metadata": {
        "id": "t88rsvc57rOb"
      },
      "outputs": [],
      "source": [
        "### Run to test your models accuracy \n",
        "\n",
        "correct=0\n",
        "test_size = test.shape[0]\n",
        "for i in range(0, test_size):\n",
        "  species = get_transported(test.iloc[i])\n",
        "  if species == test.iloc[i]['Transported']:\n",
        "      correct += 1\n",
        "\n",
        "print (\"Proportion correctly identified\", correct / test_size) \n"
      ]
    }
  ]
}